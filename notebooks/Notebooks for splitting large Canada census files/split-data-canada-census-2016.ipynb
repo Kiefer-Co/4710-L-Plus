{
 "cells": [
  {
   "cell_type": "markdown",
   "metadata": {},
   "source": [
    "**Tool for splitting data from large Canada 2016 census file downloaded from Statistics Canada**\n",
    "\n",
    "*NOTE*\n",
    "\n",
    "Since the >4gb source file 98-400-X2016055_English_CSV_data.csv is too large to be uploaded to Github, running this Jupyter notebook will result in an error unless you download the dataset from https://www12.statcan.gc.ca/census-recensement/2016/dp-pd/dt-td/Rp-eng.cfm?TABID=2&LANG=E&A=R&APATH=3&DETAIL=0&DIM=0&FL=A&FREE=0&GC=01&GL=-1&GID=1165052&GK=1&GRP=1&O=D&PID=109977&PRID=10&PTYPE=109445&S=0&SHOWALL=0&SUB=0&Temporal=2016&THEME=118&VID=0&VNAMEE=&VNAMEF=&D1=0&D2=0&D3=0&D4=0&D5=0&D6=0."
   ]
  },
  {
   "cell_type": "code",
   "execution_count": 2,
   "metadata": {},
   "outputs": [
    {
     "name": "stdout",
     "output_type": "stream",
     "text": [
      "Requirement already satisfied: pandas in c:\\users\\fogelm\\appdata\\roaming\\python\\python37\\site-packages (0.25.3)\n",
      "Requirement already satisfied: pytz>=2017.2 in c:\\programdata\\anaconda3\\lib\\site-packages (from pandas) (2018.7)\n",
      "Requirement already satisfied: python-dateutil>=2.6.1 in c:\\programdata\\anaconda3\\lib\\site-packages (from pandas) (2.7.5)\n",
      "Requirement already satisfied: numpy>=1.13.3 in c:\\users\\fogelm\\appdata\\roaming\\python\\python37\\site-packages (from pandas) (1.17.3)\n",
      "Requirement already satisfied: six>=1.5 in c:\\programdata\\anaconda3\\lib\\site-packages (from python-dateutil>=2.6.1->pandas) (1.12.0)\n"
     ]
    },
    {
     "name": "stderr",
     "output_type": "stream",
     "text": [
      "C:\\ProgramData\\Anaconda3\\lib\\site-packages\\IPython\\core\\interactiveshell.py:3020: DtypeWarning: Columns (3,14,15,16,17,18) have mixed types. Specify dtype option on import or set low_memory=False.\n",
      "  interactivity=interactivity, compiler=compiler, result=result)\n",
      "C:\\Users\\fogelm\\AppData\\Roaming\\Python\\Python37\\site-packages\\pandas\\core\\indexing.py:1418: FutureWarning: \n",
      "Passing list-likes to .loc or [] with any missing label will raise\n",
      "KeyError in the future, you can use .reindex() as an alternative.\n",
      "\n",
      "See the documentation here:\n",
      "https://pandas.pydata.org/pandas-docs/stable/user_guide/indexing.html#deprecate-loc-reindex-listlike\n",
      "  return self._getitem_tuple(key)\n"
     ]
    }
   ],
   "source": [
    "!pip install pandas\n",
    "\n",
    "import pandas as pd\n",
    "\n",
    "header = [\"GEO_NAME\", \"GEO_CODE (POR)\", \"GNR\", \"DATA_QUALITY\",\"DIM: Sex (3)\",\"DIM: Mother tongue (269)\",\"Dim: Knowledge of official languages (5): Member ID: [1]: Total - Knowledge of official languages\",\"Dim: Knowledge of official languages (5): Member ID: [2]: English only\",\"Dim: Knowledge of official languages (5): Member ID: [3]: French only\",\"Dim: Knowledge of official languages (5): Member ID: [4]: English and French\",\"Dim: Knowledge of official languages (5): Member ID: [5]: Neither English nor French\"]\n",
    "\n",
    "chart1 = pd.read_csv('../../datasets/canada-census-2016/98-400-X2016055_English_CSV_data.csv')\n",
    "#country\n",
    "chart1[chart1[\"GEO_CODE (POR)\"] == 1].to_csv(\"../../datasets/canada-census-2016/canada-census-2016-geocode-canada.csv\", columns=header);\n",
    "\n",
    "#provinces\n",
    "chart1[chart1[\"GEO_CODE (POR)\"] == 10].to_csv(\"../../datasets/canada-census-2016/canada-census-2016-geocode-newfoundland-and-labrador.csv\", columns=header);\n",
    "chart1[chart1[\"GEO_CODE (POR)\"] == 11].to_csv(\"../../datasets/canada-census-2016/canada-census-2016-geocode-prince-edward-island.csv\", columns=header);\n",
    "chart1[chart1[\"GEO_CODE (POR)\"] == 12].to_csv(\"../../datasets/canada-census-2016/canada-census-2016-geocode-nova-scotia.csv\", columns=header);\n",
    "chart1[chart1[\"GEO_CODE (POR)\"] == 13].to_csv(\"../../datasets/canada-census-2016/canada-census-2016-geocode-new-brunswick.csv\", columns=header);\n",
    "chart1[chart1[\"GEO_CODE (POR)\"] == 24].to_csv(\"../../datasets/canada-census-2016/canada-census-2016-geocode-quebec.csv\", columns=header);\n",
    "chart1[chart1[\"GEO_CODE (POR)\"] == 35].to_csv(\"../../datasets/canada-census-2016/canada-census-2016-geocode-ontario.csv\", columns=header);\n",
    "chart1[chart1[\"GEO_CODE (POR)\"] == 46].to_csv(\"../../datasets/canada-census-2016/canada-census-2016-geocode-manitoba.csv\", columns=header);\n",
    "chart1[chart1[\"GEO_CODE (POR)\"] == 47].to_csv(\"../../datasets/canada-census-2016/canada-census-2016-geocode-saskatchewan.csv\", columns=header);\n",
    "chart1[chart1[\"GEO_CODE (POR)\"] == 48].to_csv(\"../../datasets/canada-census-2016/canada-census-2016-geocode-alberta.csv\", columns=header);\n",
    "chart1[chart1[\"GEO_CODE (POR)\"] == 59].to_csv(\"../../datasets/canada-census-2016/canada-census-2016-geocode-british-columbia.csv\", columns=header);\n",
    "chart1[chart1[\"GEO_CODE (POR)\"] == 60].to_csv(\"../../datasets/canada-census-2016/canada-census-2016-geocode-yukon.csv\", columns=header);\n",
    "chart1[chart1[\"GEO_CODE (POR)\"] == 61].to_csv(\"../../datasets/canada-census-2016/canada-census-2016-geocode-northwest-territories.csv\", columns=header);\n",
    "chart1[chart1[\"GEO_CODE (POR)\"] == 62].to_csv(\"../../datasets/canada-census-2016/canada-census-2016-geocode-nunavut.csv\", columns=header);"
   ]
  },
  {
   "cell_type": "code",
   "execution_count": null,
   "metadata": {},
   "outputs": [],
   "source": []
  }
 ],
 "metadata": {
  "kernelspec": {
   "display_name": "Python 3",
   "language": "python",
   "name": "python3"
  },
  "language_info": {
   "codemirror_mode": {
    "name": "ipython",
    "version": 3
   },
   "file_extension": ".py",
   "mimetype": "text/x-python",
   "name": "python",
   "nbconvert_exporter": "python",
   "pygments_lexer": "ipython3",
   "version": "3.7.1"
  }
 },
 "nbformat": 4,
 "nbformat_minor": 2
}
